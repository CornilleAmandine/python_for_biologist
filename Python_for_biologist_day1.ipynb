{
  "nbformat": 4,
  "nbformat_minor": 0,
  "metadata": {
    "colab": {
      "provenance": [],
      "authorship_tag": "ABX9TyM7KrpRXWnOOdJBwuOzl8QW"
    },
    "kernelspec": {
      "name": "python3",
      "display_name": "Python 3"
    },
    "language_info": {
      "name": "python"
    }
  },
  "cells": [
    {
      "cell_type": "markdown",
      "source": [
        "**Welcome to Dr Virpin course** DAY 1 : Data type"
      ],
      "metadata": {
        "id": "izkL5Qviq2WG"
      }
    },
    {
      "cell_type": "code",
      "execution_count": null,
      "metadata": {
        "colab": {
          "base_uri": "https://localhost:8080/"
        },
        "id": "nq9LQqdvquux",
        "outputId": "715b892e-d474-4388-a706-1fcb73d7a87a"
      },
      "outputs": [
        {
          "output_type": "stream",
          "name": "stdout",
          "text": [
            "Welcome to Python for Biologists\n"
          ]
        }
      ],
      "source": [
        "#Part 1 - Getting familiar\n",
        "print(\"Welcome to Python for Biologists\")"
      ]
    },
    {
      "cell_type": "code",
      "source": [
        "#LET'S START"
      ],
      "metadata": {
        "id": "-tAfY9Cyq1fi"
      },
      "execution_count": null,
      "outputs": []
    },
    {
      "cell_type": "code",
      "source": [
        "print('1')"
      ],
      "metadata": {
        "id": "AemW15ZfsDbS"
      },
      "execution_count": null,
      "outputs": []
    },
    {
      "cell_type": "code",
      "source": [
        "#Double Quote, Single Quote\n"
      ],
      "metadata": {
        "id": "fDqtl8a2sLBZ"
      },
      "execution_count": null,
      "outputs": []
    },
    {
      "cell_type": "code",
      "source": [
        "# Print with a statement\n",
        "print(\"2 raised to the power 6 is\", pow(2,6))"
      ],
      "metadata": {
        "id": "lER1zREtsjBj",
        "colab": {
          "base_uri": "https://localhost:8080/"
        },
        "outputId": "04526dd2-b8a1-4013-a457-0d315395bbec"
      },
      "execution_count": null,
      "outputs": [
        {
          "output_type": "stream",
          "name": "stdout",
          "text": [
            "2 raised to the power 6 is 64\n"
          ]
        }
      ]
    },
    {
      "cell_type": "code",
      "source": [
        "#Quotient\n",
        "11//3"
      ],
      "metadata": {
        "colab": {
          "base_uri": "https://localhost:8080/"
        },
        "id": "nWFCoZKGvNET",
        "outputId": "49d2c0a1-2880-4cd7-c190-0f3b0f87cdfa"
      },
      "execution_count": null,
      "outputs": [
        {
          "output_type": "execute_result",
          "data": {
            "text/plain": [
              "3"
            ]
          },
          "metadata": {},
          "execution_count": 3
        }
      ]
    },
    {
      "cell_type": "code",
      "source": [
        "#Remainder of division\n",
        "15%3"
      ],
      "metadata": {
        "colab": {
          "base_uri": "https://localhost:8080/"
        },
        "id": "mtY9oGsNvR52",
        "outputId": "e6f1da4f-9be0-415b-8bb7-c6479a9488d9"
      },
      "execution_count": null,
      "outputs": [
        {
          "output_type": "execute_result",
          "data": {
            "text/plain": [
              "0"
            ]
          },
          "metadata": {},
          "execution_count": 4
        }
      ]
    },
    {
      "cell_type": "code",
      "source": [
        "#Mathematical operators >, <, ==, >=, <=, !=\n",
        "print(4!=5)"
      ],
      "metadata": {
        "colab": {
          "base_uri": "https://localhost:8080/"
        },
        "id": "NGHshw8mvYo2",
        "outputId": "70e5025e-9df2-4612-e56d-d7e5545b27ab"
      },
      "execution_count": null,
      "outputs": [
        {
          "output_type": "stream",
          "name": "stdout",
          "text": [
            "True\n"
          ]
        }
      ]
    },
    {
      "cell_type": "code",
      "source": [
        "#Data types  = numeric - florat and int\n",
        "#no decimal value - int\n",
        "a=\"2\"\n",
        "type(a)\n",
        "b=2\n",
        "type(b)"
      ],
      "metadata": {
        "colab": {
          "base_uri": "https://localhost:8080/"
        },
        "id": "PKhRtPlqwD4d",
        "outputId": "5165a50a-5026-4045-9810-413686769a69"
      },
      "execution_count": null,
      "outputs": [
        {
          "output_type": "execute_result",
          "data": {
            "text/plain": [
              "int"
            ]
          },
          "metadata": {},
          "execution_count": 2
        }
      ]
    },
    {
      "cell_type": "code",
      "source": [
        "#Antoher way of checking type is isistance\n",
        "dna1=1\n",
        "isinstance(dna1,float)"
      ],
      "metadata": {
        "colab": {
          "base_uri": "https://localhost:8080/"
        },
        "id": "D48WZtR8uygl",
        "outputId": "c47bbfcf-8ff5-4244-8257-f81fc95c4c4e"
      },
      "execution_count": null,
      "outputs": [
        {
          "output_type": "execute_result",
          "data": {
            "text/plain": [
              "False"
            ]
          },
          "metadata": {},
          "execution_count": 3
        }
      ]
    }
  ]
}