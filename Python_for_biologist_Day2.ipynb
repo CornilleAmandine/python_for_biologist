{
  "nbformat": 4,
  "nbformat_minor": 0,
  "metadata": {
    "colab": {
      "provenance": [],
      "authorship_tag": "ABX9TyOClDQfOhDtxyN2Pk4bVGXV",
      "include_colab_link": true
    },
    "kernelspec": {
      "name": "python3",
      "display_name": "Python 3"
    },
    "language_info": {
      "name": "python"
    }
  },
  "cells": [
    {
      "cell_type": "markdown",
      "metadata": {
        "id": "view-in-github",
        "colab_type": "text"
      },
      "source": [
        "<a href=\"https://colab.research.google.com/github/CornilleAmandine/python_for_biologist/blob/main/Python_for_biologist_Day2.ipynb\" target=\"_parent\"><img src=\"https://colab.research.google.com/assets/colab-badge.svg\" alt=\"Open In Colab\"/></a>"
      ]
    },
    {
      "cell_type": "markdown",
      "source": [
        "**DAY 2**\n"
      ],
      "metadata": {
        "id": "zf9BkE2TwABC"
      }
    },
    {
      "cell_type": "code",
      "execution_count": null,
      "metadata": {
        "colab": {
          "base_uri": "https://localhost:8080/"
        },
        "id": "_kbB6HVsvCc8",
        "outputId": "633af7b0-63fe-452e-c412-cf5fad295873"
      },
      "outputs": [
        {
          "output_type": "stream",
          "name": "stdout",
          "text": [
            "Submit the starting molecules of DNA 100\n",
            "Submit the number of cycles 30\n",
            "Total number of DNA molecuales =  107374182400\n"
          ]
        }
      ],
      "source": [
        "#Calculate total ds DNA molecules starting from X DNA moleculars and n PCR cycles\n",
        "\n",
        "#Asking the user to submit the startting number of DNA moleculaes\n",
        "dna=int(input(\"Submit the starting molecules of DNA \"))\n",
        "\n",
        "#Submit number of cycles the PCR was run\n",
        "cycles=int(input(\"Submit the number of cycles \"))\n",
        "\n",
        "#Calculating the total number of DNA moleculaes after n cycles and with X molecules\n",
        "total_dna=dna*(2**cycles)\n",
        "\n",
        "print(\"Total number of DNA molecuales = \", total_dna)"
      ]
    },
    {
      "cell_type": "code",
      "source": [
        "#Strings\n",
        "#Any thing included within single or double quotes is a string\n",
        "name=\"Vipin\"\n",
        "print(\"The daattype of name is \", type(name))"
      ],
      "metadata": {
        "colab": {
          "base_uri": "https://localhost:8080/"
        },
        "id": "ixIwFABGwHvn",
        "outputId": "7f7f8dc3-ebb4-4af7-abeb-4e70b18b4ee9"
      },
      "execution_count": null,
      "outputs": [
        {
          "output_type": "stream",
          "name": "stdout",
          "text": [
            "The daattype of name is  <class 'str'>\n"
          ]
        }
      ]
    },
    {
      "cell_type": "code",
      "source": [
        "#String functions #calcuulating length of a string or number of characters in a string\n",
        "dna=\"ATTCTCTATATA\"\n",
        "length=len(dna)\n",
        "print(dna,length)"
      ],
      "metadata": {
        "colab": {
          "base_uri": "https://localhost:8080/"
        },
        "id": "89JLXG53wUko",
        "outputId": "38194ad2-f748-49cb-931b-568dd0ee015d"
      },
      "execution_count": null,
      "outputs": [
        {
          "output_type": "stream",
          "name": "stdout",
          "text": [
            "ATTCTCTATATA 12\n"
          ]
        }
      ]
    },
    {
      "cell_type": "code",
      "source": [
        "#String function #chaging case\n",
        "name=\"Vipin\"\n",
        "print(len(name))\n",
        "print(name)\n",
        "print(name.upper())\n",
        "print(name.lower())\n",
        "print(name.title())\n",
        "print(name.swapcase())"
      ],
      "metadata": {
        "colab": {
          "base_uri": "https://localhost:8080/"
        },
        "id": "Z_gooiY6wjR8",
        "outputId": "910288ab-2887-4650-a034-51c4c6a73069"
      },
      "execution_count": null,
      "outputs": [
        {
          "output_type": "stream",
          "name": "stdout",
          "text": [
            "5\n",
            "Vipin\n",
            "VIPIN\n",
            "vipin\n",
            "Vipin\n",
            "vIPIN\n"
          ]
        }
      ]
    },
    {
      "cell_type": "code",
      "source": [
        "dna=input(\"Submit a DNA sequencing/n\")\n",
        "type(dna)"
      ],
      "metadata": {
        "colab": {
          "base_uri": "https://localhost:8080/"
        },
        "id": "Fy0eIhkxw1D9",
        "outputId": "e27c4e9a-5357-47bc-ccaf-cccc45f686d3"
      },
      "execution_count": null,
      "outputs": [
        {
          "name": "stdout",
          "output_type": "stream",
          "text": [
            "Submit a DNA sequencing/nATCTGCGC\n"
          ]
        },
        {
          "output_type": "execute_result",
          "data": {
            "text/plain": [
              "str"
            ]
          },
          "metadata": {},
          "execution_count": 8
        }
      ]
    },
    {
      "cell_type": "code",
      "source": [
        "#Calculate the lenth of input DNA Sequence\n",
        "length1=len(dna)\n",
        "print(\"Length  of DNA in bases is \", length1)"
      ],
      "metadata": {
        "colab": {
          "base_uri": "https://localhost:8080/"
        },
        "id": "lOympHwXxU4x",
        "outputId": "e39bf2e0-154d-4009-ecef-401e9344d2c6"
      },
      "execution_count": null,
      "outputs": [
        {
          "output_type": "stream",
          "name": "stdout",
          "text": [
            "Length  of DNA in bases is  8\n"
          ]
        }
      ]
    },
    {
      "cell_type": "code",
      "source": [
        "#Accessing individuals characters in a string\n",
        "#python follows zero indexing\n",
        "#The index is the first character in a string is 0, 2nd is 1, 3rd is 2, nth characters\n",
        "dna=\"AaTtGgCc\"\n",
        "dna[4]"
      ],
      "metadata": {
        "colab": {
          "base_uri": "https://localhost:8080/",
          "height": 35
        },
        "id": "q1p8xF-zzBHQ",
        "outputId": "e4145d2a-f88d-4ebb-a066-57356e7f4a2b"
      },
      "execution_count": null,
      "outputs": [
        {
          "output_type": "execute_result",
          "data": {
            "text/plain": [
              "'G'"
            ],
            "application/vnd.google.colaboratory.intrinsic+json": {
              "type": "string"
            }
          },
          "metadata": {},
          "execution_count": 1
        }
      ]
    },
    {
      "cell_type": "code",
      "source": [
        "#Xth value from the reverse end\n",
        "print(dna[-4])"
      ],
      "metadata": {
        "colab": {
          "base_uri": "https://localhost:8080/"
        },
        "id": "VRPkCw6hzVom",
        "outputId": "2b9bc666-f338-46e2-b353-90c22c5d14f8"
      },
      "execution_count": null,
      "outputs": [
        {
          "output_type": "stream",
          "name": "stdout",
          "text": [
            "G\n"
          ]
        }
      ]
    },
    {
      "cell_type": "code",
      "source": [
        "#SLICE - subsetting a string\n",
        "#dna[start;end] - start included, en excluded\n",
        "dna=\"ATGCATGC\"\n",
        "print(dna[2:6])\n",
        "#print(dna[x:y]) - print all - starting from x until y-1\n",
        "#x inclusive, y exclusive"
      ],
      "metadata": {
        "colab": {
          "base_uri": "https://localhost:8080/"
        },
        "id": "WaDgbkTuzdTy",
        "outputId": "3f3abe82-6a2e-428b-9005-9c183aaf6ab5"
      },
      "execution_count": null,
      "outputs": [
        {
          "output_type": "stream",
          "name": "stdout",
          "text": [
            "GCAT\n"
          ]
        }
      ]
    },
    {
      "cell_type": "code",
      "source": [
        "#SLICE - other subsetting pattern\n",
        "print(dna[:3]) # default startting index is 0\n",
        "print(dna[3:]) # default startting index is 0\n",
        "print(dna[-1:-4]) # default startting index is 0\n"
      ],
      "metadata": {
        "colab": {
          "base_uri": "https://localhost:8080/"
        },
        "id": "3G_sW7kXz8tj",
        "outputId": "98d0980a-3799-4daa-f6ac-71c1e33671a1"
      },
      "execution_count": null,
      "outputs": [
        {
          "output_type": "stream",
          "name": "stdout",
          "text": [
            "ATG\n",
            "CATGC\n",
            "\n"
          ]
        }
      ]
    },
    {
      "cell_type": "code",
      "source": [
        "print(dna[:3])"
      ],
      "metadata": {
        "colab": {
          "base_uri": "https://localhost:8080/"
        },
        "id": "JgrUSVAX2f4s",
        "outputId": "5a89659e-ca0d-46b0-d0a9-e99389bfb6d9"
      },
      "execution_count": null,
      "outputs": [
        {
          "output_type": "stream",
          "name": "stdout",
          "text": [
            "ATG\n"
          ]
        }
      ]
    },
    {
      "cell_type": "code",
      "source": [
        "#reversgin a string - printing DNA 3'-5'\n",
        "dna=\"ATGCATGC\"\n",
        "print(dna)\n",
        "rev_dna=dna[::-1]\n",
        "print(rev_dna)\n"
      ],
      "metadata": {
        "colab": {
          "base_uri": "https://localhost:8080/"
        },
        "id": "tMjlpZaa3JUp",
        "outputId": "4534f0ce-05f3-418f-aa4c-29ed5467ea61"
      },
      "execution_count": null,
      "outputs": [
        {
          "output_type": "stream",
          "name": "stdout",
          "text": [
            "ATGCATGC\n",
            "CGTACGTA\n"
          ]
        }
      ]
    },
    {
      "cell_type": "code",
      "source": [
        "#Check whether the word submitted by the user is a pallindrome\n",
        "#Taking input and reversing the string\n",
        "word=input(\"Submit the word \") #madam for example (pallindrome)\n",
        "word1=word[::-1]\n",
        "print(word) #madam for example"
      ],
      "metadata": {
        "colab": {
          "base_uri": "https://localhost:8080/"
        },
        "id": "UVxmAO6H3XPA",
        "outputId": "1ce2069c-bf50-40f5-ad35-cb1559ed1ee1"
      },
      "execution_count": null,
      "outputs": [
        {
          "output_type": "stream",
          "name": "stdout",
          "text": [
            "Submit the word 1005\n",
            "1005\n"
          ]
        }
      ]
    },
    {
      "cell_type": "code",
      "source": [
        "#Condition check : flow control\n",
        "if word==word1:\n",
        "  print(\"Pallindrome\")\n",
        "  print(\"Huarray\")\n",
        "  print(123)\n",
        "else:\n",
        "  print(\"Not a pallindrome\")"
      ],
      "metadata": {
        "colab": {
          "base_uri": "https://localhost:8080/"
        },
        "id": "rAdqZZM4391c",
        "outputId": "73fbb38f-d2d8-4e5e-e36b-7a489464c0ba"
      },
      "execution_count": null,
      "outputs": [
        {
          "output_type": "stream",
          "name": "stdout",
          "text": [
            "Not a pallindrome\n"
          ]
        }
      ]
    },
    {
      "cell_type": "code",
      "source": [
        "#Checking Pallindrome\n",
        "  word=input(\"Submit a workd \\t\")\n",
        "  word=word.lower()\n",
        "  word1=word[::-1]\n",
        "  #carefull the case matters"
      ],
      "metadata": {
        "id": "G9d1ccfl4ZW7"
      },
      "execution_count": null,
      "outputs": []
    },
    {
      "cell_type": "code",
      "source": [
        "#Finding a substring - FIRST MATCH- EXACT MACTH\n",
        "dna=\"ATGCATGC\"\n",
        "firststg=dna.find(\"G\")\n",
        "print(\"First G is an index\", firststg)"
      ],
      "metadata": {
        "colab": {
          "base_uri": "https://localhost:8080/"
        },
        "id": "PJ6N5uZL44og",
        "outputId": "00b34f0b-e20a-4180-f3fd-465b90e28bef"
      },
      "execution_count": null,
      "outputs": [
        {
          "output_type": "stream",
          "name": "stdout",
          "text": [
            "First G is an index 2\n"
          ]
        }
      ]
    },
    {
      "cell_type": "code",
      "source": [
        "#Finding substrubg - LAST EXACT MATCH\n",
        "lastG=dna.rfind(\"G\")\n",
        "print(\"Index of last G is\", lastG)"
      ],
      "metadata": {
        "colab": {
          "base_uri": "https://localhost:8080/"
        },
        "id": "8bms5VVw8PTX",
        "outputId": "7adec4b0-a854-4490-b64e-e29056b81ddb"
      },
      "execution_count": null,
      "outputs": [
        {
          "output_type": "stream",
          "name": "stdout",
          "text": [
            "Index of last G is 6\n"
          ]
        }
      ]
    },
    {
      "cell_type": "code",
      "source": [
        "#Counting for a substring from X index\n",
        "dna=\"GGGG\"\n",
        "b=dna.count(\"G\")\n",
        "print(b)"
      ],
      "metadata": {
        "colab": {
          "base_uri": "https://localhost:8080/"
        },
        "id": "gNPg5vQU8ryQ",
        "outputId": "ba69db64-92ae-4d35-ff61-ea7de4cfc9ac"
      },
      "execution_count": null,
      "outputs": [
        {
          "output_type": "stream",
          "name": "stdout",
          "text": [
            "4\n"
          ]
        }
      ]
    },
    {
      "cell_type": "code",
      "source": [
        "#Converting DNA to RNA\n",
        "dna=\"ATGCATGC\"\n",
        "rna=dna.replace(\"T\", \"U\")\n",
        "print(dna)\n",
        "print(\"The corresponding RNA seqeuncing is \" , rna)"
      ],
      "metadata": {
        "colab": {
          "base_uri": "https://localhost:8080/"
        },
        "id": "x654OdyU83m0",
        "outputId": "8dad8638-6c00-4b55-f319-f364298b7865"
      },
      "execution_count": null,
      "outputs": [
        {
          "output_type": "stream",
          "name": "stdout",
          "text": [
            "ATGCATGC\n",
            "The corresponding RNA seqeuncing is  AUGCAUGC\n"
          ]
        }
      ]
    },
    {
      "cell_type": "code",
      "source": [
        "#DNA composition\n",
        "dna=\"AATTGGCC\"\n",
        "#dna=input(\"Composition of DNA\")\n",
        "print(dna)\n",
        "length=len(dna)\n",
        "print(length)\n",
        "a=dna.count(\"A\")\n",
        "t=dna.count(\"T\")\n",
        "g=dna.count(\"G\")\n",
        "c=dna.count(\"C\")\n",
        "purine=a+g\n",
        "pyr=t+c\n",
        "gc=((g+c)/length)*100\n",
        "print(\"Composition of DNA  A,T,G,C is \", a,t,g,c)\n",
        "print(\"Total purines \", purine)\n",
        "print(\"Total Pyrimidines\", pyr)\n",
        "print(\"GC %\", gc)"
      ],
      "metadata": {
        "colab": {
          "base_uri": "https://localhost:8080/",
          "height": 276
        },
        "id": "eTzEn8wR9Frc",
        "outputId": "ff608e62-1461-48a3-c127-645c536a130e"
      },
      "execution_count": null,
      "outputs": [
        {
          "output_type": "stream",
          "name": "stdout",
          "text": [
            "Composition of DNAATTGGAGAC\n",
            "<built-in method upper of str object at 0x7db20fdee6f0>\n"
          ]
        },
        {
          "output_type": "error",
          "ename": "TypeError",
          "evalue": "ignored",
          "traceback": [
            "\u001b[0;31m---------------------------------------------------------------------------\u001b[0m",
            "\u001b[0;31mTypeError\u001b[0m                                 Traceback (most recent call last)",
            "\u001b[0;32m<ipython-input-29-6b3b140b663c>\u001b[0m in \u001b[0;36m<cell line: 5>\u001b[0;34m()\u001b[0m\n\u001b[1;32m      3\u001b[0m \u001b[0mdna\u001b[0m\u001b[0;34m=\u001b[0m\u001b[0minput\u001b[0m\u001b[0;34m(\u001b[0m\u001b[0;34m\"Composition of DNA\"\u001b[0m\u001b[0;34m)\u001b[0m\u001b[0;34m.\u001b[0m\u001b[0mupper\u001b[0m\u001b[0;34m\u001b[0m\u001b[0;34m\u001b[0m\u001b[0m\n\u001b[1;32m      4\u001b[0m \u001b[0mprint\u001b[0m\u001b[0;34m(\u001b[0m\u001b[0mdna\u001b[0m\u001b[0;34m)\u001b[0m\u001b[0;34m\u001b[0m\u001b[0;34m\u001b[0m\u001b[0m\n\u001b[0;32m----> 5\u001b[0;31m \u001b[0mlength\u001b[0m\u001b[0;34m=\u001b[0m\u001b[0mlen\u001b[0m\u001b[0;34m(\u001b[0m\u001b[0mdna\u001b[0m\u001b[0;34m)\u001b[0m\u001b[0;34m\u001b[0m\u001b[0;34m\u001b[0m\u001b[0m\n\u001b[0m\u001b[1;32m      6\u001b[0m \u001b[0mprint\u001b[0m\u001b[0;34m(\u001b[0m\u001b[0mlength\u001b[0m\u001b[0;34m)\u001b[0m\u001b[0;34m\u001b[0m\u001b[0;34m\u001b[0m\u001b[0m\n\u001b[1;32m      7\u001b[0m \u001b[0ma\u001b[0m\u001b[0;34m=\u001b[0m\u001b[0mdna\u001b[0m\u001b[0;34m.\u001b[0m\u001b[0mcount\u001b[0m\u001b[0;34m(\u001b[0m\u001b[0;34m\"A\"\u001b[0m\u001b[0;34m)\u001b[0m\u001b[0;34m\u001b[0m\u001b[0;34m\u001b[0m\u001b[0m\n",
            "\u001b[0;31mTypeError\u001b[0m: object of type 'builtin_function_or_method' has no len()"
          ]
        }
      ]
    }
  ]
}