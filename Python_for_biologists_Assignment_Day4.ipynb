{
  "nbformat": 4,
  "nbformat_minor": 0,
  "metadata": {
    "colab": {
      "provenance": [],
      "authorship_tag": "ABX9TyOdaqg9LbYY5kMAT7ZyRZ7p",
      "include_colab_link": true
    },
    "kernelspec": {
      "name": "python3",
      "display_name": "Python 3"
    },
    "language_info": {
      "name": "python"
    }
  },
  "cells": [
    {
      "cell_type": "markdown",
      "metadata": {
        "id": "view-in-github",
        "colab_type": "text"
      },
      "source": [
        "<a href=\"https://colab.research.google.com/github/CornilleAmandine/python_for_biologist/blob/main/Python_for_biologists_Assignment_Day4.ipynb\" target=\"_parent\"><img src=\"https://colab.research.google.com/assets/colab-badge.svg\" alt=\"Open In Colab\"/></a>"
      ]
    },
    {
      "cell_type": "markdown",
      "source": [
        "**Assignment Day4**\n",
        "\n",
        "Create a list of even numbers till 20\n",
        "\n",
        "Remove the last number\n",
        "\n",
        "Remove the third number  in the list\n",
        "\n",
        "Add 50 in the end\n",
        "\n",
        "insert 101 at the index 2\n",
        "\n",
        "Change value at index 5 to 25\n",
        "\n",
        "Calculate total and average of numbers\n",
        "\n",
        "Calculate mean, median, mode, variance, standard eorror for the final list"
      ],
      "metadata": {
        "id": "nX5ImAZjI8J-"
      }
    },
    {
      "cell_type": "markdown",
      "source": [],
      "metadata": {
        "id": "98DLtbH2I9BO"
      }
    },
    {
      "cell_type": "markdown",
      "source": [],
      "metadata": {
        "id": "3vdd51YSpnmS"
      }
    },
    {
      "cell_type": "code",
      "execution_count": 17,
      "metadata": {
        "id": "njrhEMlfI7Sb"
      },
      "outputs": [],
      "source": [
        "#Create a list of even numbers till 20\n",
        "example_list=[1,2,3,4,5,19,20,1783, 918, 102, 1830, 101, 23, 45, 89, 10, 14, 13, 568, 8726]"
      ]
    },
    {
      "cell_type": "code",
      "source": [
        "#Remove the last number\n",
        "example_list[:-1]"
      ],
      "metadata": {
        "id": "ruwlntSop5jU",
        "outputId": "d7a70587-6b66-427b-baf2-0cdd8a35a61e",
        "colab": {
          "base_uri": "https://localhost:8080/"
        }
      },
      "execution_count": 11,
      "outputs": [
        {
          "output_type": "execute_result",
          "data": {
            "text/plain": [
              "[1, 2, 3, 4, 5, 19, 20, 1783, 918, 102, 1830, 101, 23, 45, 89, 10, 14, 13, 568]"
            ]
          },
          "metadata": {},
          "execution_count": 11
        }
      ]
    },
    {
      "cell_type": "code",
      "source": [
        "#Remove the 3rd number  in the list\n",
        "example_list.pop(2)\n",
        "print(example_list)\n"
      ],
      "metadata": {
        "colab": {
          "base_uri": "https://localhost:8080/"
        },
        "id": "GosdebsfU1FW",
        "outputId": "b5dd4eac-94da-4587-b0b7-a190b8f19d2d"
      },
      "execution_count": 19,
      "outputs": [
        {
          "output_type": "stream",
          "name": "stdout",
          "text": [
            "[1, 2, 5, 19, 20, 1783, 918, 102, 1830, 101, 23, 45, 89, 10, 14, 13, 568, 8726]\n"
          ]
        }
      ]
    },
    {
      "cell_type": "code",
      "source": [
        "#Add 50 in the end\n",
        "example_list=[1,2,3,4,5,19,20,1783, 918, 102, 1830, 101, 23, 45, 89, 10, 14, 13, 568, 8726]\n",
        "example_list.append(50)\n",
        "print(example_list)\n",
        "\n"
      ],
      "metadata": {
        "colab": {
          "base_uri": "https://localhost:8080/"
        },
        "id": "j6JuGK-1V5ve",
        "outputId": "91968447-da85-48c9-84e6-9bf190942042"
      },
      "execution_count": 20,
      "outputs": [
        {
          "output_type": "stream",
          "name": "stdout",
          "text": [
            "[1, 2, 3, 4, 5, 19, 20, 1783, 918, 102, 1830, 101, 23, 45, 89, 10, 14, 13, 568, 8726, 50]\n"
          ]
        }
      ]
    },
    {
      "cell_type": "code",
      "source": [
        "#insert 101 at the index 2\n",
        "example_list=[1,2,3,4,5,19,20,1783, 918, 102, 1830, 101, 23, 45, 89, 10, 14, 13, 568, 8726]\n",
        "example_list.insert(2,101)\n",
        "print(example_list)\n"
      ],
      "metadata": {
        "colab": {
          "base_uri": "https://localhost:8080/"
        },
        "id": "SYqmUw7AWtNs",
        "outputId": "6b416b73-ce6e-4c5b-d75f-238b568a9ce0"
      },
      "execution_count": 25,
      "outputs": [
        {
          "output_type": "stream",
          "name": "stdout",
          "text": [
            "[1, 2, 101, 3, 4, 5, 19, 20, 1783, 918, 102, 1830, 101, 23, 45, 89, 10, 14, 13, 568, 8726]\n"
          ]
        }
      ]
    },
    {
      "cell_type": "code",
      "source": [
        "#Change value at index 5 to 25\n",
        "example_list=[1,2,3,4,5,19,20,1783, 918, 102, 1830, 101, 23, 45, 89, 10, 14, 13, 568, 8726]\n",
        "example_list[5]=25\n",
        "print(example_list)\n"
      ],
      "metadata": {
        "colab": {
          "base_uri": "https://localhost:8080/"
        },
        "id": "1EodSftwXv4I",
        "outputId": "76ea76ce-ab9f-4e65-c92e-a9def5ed8ea9"
      },
      "execution_count": 29,
      "outputs": [
        {
          "output_type": "stream",
          "name": "stdout",
          "text": [
            "[1, 2, 3, 4, 5, 25, 20, 1783, 918, 102, 1830, 101, 23, 45, 89, 10, 14, 13, 568, 8726]\n"
          ]
        }
      ]
    },
    {
      "cell_type": "code",
      "source": [
        "#Calculate total and average of numbers\n",
        "#Number of elements in a list\n",
        "length=len(example_list)\n",
        "print(length)\n",
        "\n",
        "#sum\n",
        "example_list=[1,2,3,4,5,19,20,1783, 918, 102, 1830, 101, 23, 45, 89, 10, 14, 13, 568, 8726]\n",
        "y=sum(example_list)\n",
        "print(\"sum \", y)\n"
      ],
      "metadata": {
        "colab": {
          "base_uri": "https://localhost:8080/"
        },
        "id": "DpOIfZNYaNFc",
        "outputId": "bcd1b80c-3e95-40e5-9a93-c2006f00a4e1"
      },
      "execution_count": 32,
      "outputs": [
        {
          "output_type": "stream",
          "name": "stdout",
          "text": [
            "20\n",
            "sum  14276\n"
          ]
        }
      ]
    },
    {
      "cell_type": "code",
      "source": [
        "#Calculate mean, median, mode, variance, standard eorror for the final list\n",
        "from statistics import mean\n",
        "example_list=[1,2,3,4,5,19,20,1783, 918, 102, 1830, 101, 23, 45, 89, 10, 14, 13, 568, 8726]\n",
        "mean_mylist=mean(example_list)\n",
        "print(mean_mylist)\n"
      ],
      "metadata": {
        "colab": {
          "base_uri": "https://localhost:8080/"
        },
        "id": "uxxriaeNbk0A",
        "outputId": "9f7d5bfc-87b7-4735-92af-fb1b8e96b828"
      },
      "execution_count": 36,
      "outputs": [
        {
          "output_type": "stream",
          "name": "stdout",
          "text": [
            "713.8\n"
          ]
        }
      ]
    },
    {
      "cell_type": "code",
      "source": [
        "#Calculating descriptive statistics\n",
        "from statistics import * #import all the library from staistics\n",
        "example_list=[1,2,3,4,5,19,20,1783, 918, 102, 1830, 101, 23, 45, 89, 10, 14, 13, 568, 8726]\n",
        "print(mean(example_list))\n",
        "print(median(example_list))\n",
        "print(variance(example_list))\n",
        "print(stdev(example_list))"
      ],
      "metadata": {
        "colab": {
          "base_uri": "https://localhost:8080/"
        },
        "id": "6l6p9ZhAckRJ",
        "outputId": "f69aa24a-d383-43ca-ced3-5e04cb2d5e06"
      },
      "execution_count": 37,
      "outputs": [
        {
          "output_type": "stream",
          "name": "stdout",
          "text": [
            "713.8\n",
            "21.5\n",
            "3877819.2210526317\n",
            "1969.2179211688665\n"
          ]
        }
      ]
    }
  ]
}