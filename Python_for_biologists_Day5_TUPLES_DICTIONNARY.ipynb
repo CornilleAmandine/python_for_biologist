{
  "nbformat": 4,
  "nbformat_minor": 0,
  "metadata": {
    "colab": {
      "provenance": [],
      "authorship_tag": "ABX9TyOD77lpHw9ckjftwlmO9AUk"
    },
    "kernelspec": {
      "name": "python3",
      "display_name": "Python 3"
    },
    "language_info": {
      "name": "python"
    }
  },
  "cells": [
    {
      "cell_type": "code",
      "execution_count": null,
      "metadata": {
        "id": "vkJCRFPhJzdg"
      },
      "outputs": [],
      "source": [
        "#Tuples are very similar to list\n",
        "#A. they are declared in round brakets\n",
        "#B THey are not mutable"
      ]
    },
    {
      "cell_type": "code",
      "source": [
        "#declaring a tuple\n",
        "list1=[\"DNA\", \"RNA\", \"protein\"]\n",
        "tuple1=(\"DNA\", \"RNA\", \"protein\")\n",
        "print(type(list1))\n",
        "print(type(tuple1))"
      ],
      "metadata": {
        "colab": {
          "base_uri": "https://localhost:8080/"
        },
        "id": "PZx0FoUfL3G7",
        "outputId": "5a641d13-019b-4724-e2b8-b63731ece242"
      },
      "execution_count": 3,
      "outputs": [
        {
          "output_type": "stream",
          "name": "stdout",
          "text": [
            "<class 'list'>\n",
            "<class 'tuple'>\n"
          ]
        }
      ]
    },
    {
      "cell_type": "code",
      "source": [
        "#A tuple is simlar to a list - zeroe indexing ecept that\n",
        "print(tuple1)\n",
        "print(tuple1[1])\n",
        "print(tuple1[1:])\n",
        "print(tuple1[:1])"
      ],
      "metadata": {
        "colab": {
          "base_uri": "https://localhost:8080/"
        },
        "id": "er7fkiDuMICP",
        "outputId": "783a0cb4-2069-499b-db18-49b52410584e"
      },
      "execution_count": 2,
      "outputs": [
        {
          "output_type": "stream",
          "name": "stdout",
          "text": [
            "('DNA', 'RNA', 'protein')\n",
            "RNA\n",
            "('RNA', 'protein')\n",
            "('DNA',)\n"
          ]
        }
      ]
    },
    {
      "cell_type": "code",
      "source": [
        "#list can be modified\n",
        "print(list1)\n",
        "list1[0]=2\n",
        "print(list1)"
      ],
      "metadata": {
        "colab": {
          "base_uri": "https://localhost:8080/"
        },
        "id": "GMsndCC8MTaH",
        "outputId": "180f9345-0825-403e-e644-4e4775d49924"
      },
      "execution_count": 4,
      "outputs": [
        {
          "output_type": "stream",
          "name": "stdout",
          "text": [
            "['DNA', 'RNA', 'protein']\n",
            "[2, 'RNA', 'protein']\n"
          ]
        }
      ]
    },
    {
      "cell_type": "code",
      "source": [
        "#And tuples cannot vbe modified\n",
        "tuple1[0]=2\n",
        "print(tuple1)"
      ],
      "metadata": {
        "colab": {
          "base_uri": "https://localhost:8080/",
          "height": 208
        },
        "id": "aB9-bPFGMcOP",
        "outputId": "b9228d3d-02c2-4263-e11c-0969c05415fc"
      },
      "execution_count": 5,
      "outputs": [
        {
          "output_type": "error",
          "ename": "TypeError",
          "evalue": "ignored",
          "traceback": [
            "\u001b[0;31m---------------------------------------------------------------------------\u001b[0m",
            "\u001b[0;31mTypeError\u001b[0m                                 Traceback (most recent call last)",
            "\u001b[0;32m<ipython-input-5-830cf61e13f5>\u001b[0m in \u001b[0;36m<cell line: 2>\u001b[0;34m()\u001b[0m\n\u001b[1;32m      1\u001b[0m \u001b[0;31m#And tuples cannot vbe modified\u001b[0m\u001b[0;34m\u001b[0m\u001b[0;34m\u001b[0m\u001b[0m\n\u001b[0;32m----> 2\u001b[0;31m \u001b[0mtuple1\u001b[0m\u001b[0;34m[\u001b[0m\u001b[0;36m0\u001b[0m\u001b[0;34m]\u001b[0m\u001b[0;34m=\u001b[0m\u001b[0;36m2\u001b[0m\u001b[0;34m\u001b[0m\u001b[0;34m\u001b[0m\u001b[0m\n\u001b[0m\u001b[1;32m      3\u001b[0m \u001b[0mprint\u001b[0m\u001b[0;34m(\u001b[0m\u001b[0mtuple1\u001b[0m\u001b[0;34m)\u001b[0m\u001b[0;34m\u001b[0m\u001b[0;34m\u001b[0m\u001b[0m\n",
            "\u001b[0;31mTypeError\u001b[0m: 'tuple' object does not support item assignment"
          ]
        }
      ]
    },
    {
      "cell_type": "code",
      "source": [
        "#like list you can iterate ober a tuple\n",
        "sequencers=(\"Illumina\", \"IonTorrent\", \"Nanopore\", \"PacBio\")\n",
        "print(type(sequencers))\n",
        "for i in sequencers:\n",
        "  print(i)"
      ],
      "metadata": {
        "colab": {
          "base_uri": "https://localhost:8080/"
        },
        "id": "_sqd7TpgMiey",
        "outputId": "e700b82f-2e6d-4e68-d6fe-bce9bc39c030"
      },
      "execution_count": 8,
      "outputs": [
        {
          "output_type": "stream",
          "name": "stdout",
          "text": [
            "<class 'tuple'>\n",
            "Illumina\n",
            "IonTorrent\n",
            "Nanopore\n",
            "PacBio\n"
          ]
        }
      ]
    },
    {
      "cell_type": "code",
      "source": [
        "#Examples where tuples canbe used un biotechnology\n",
        "nucleotides=(\"A\", \"T\", \"C\", \"G\")\n",
        "stop_codons=(\"UAA\", \"UAG\", \"UGA\")\n",
        "#amino_acids=#(To be add)\n",
        "central_dogma=(\"DNA\", \"RNA\", \"protein\")"
      ],
      "metadata": {
        "id": "AwM0H1gwM4gI"
      },
      "execution_count": null,
      "outputs": []
    },
    {
      "cell_type": "code",
      "source": [
        "#################DICTIONARY : An ordered collection of data indexed by a keyword\n",
        "#Discitionary is essentially a key - value paie\n",
        "#Key should be unique - the value may be similar or dissimilar\n",
        "#e.f. People may have the same name, but different social security number, SSN= key"
      ],
      "metadata": {
        "id": "hPa9ioGlNMph"
      },
      "execution_count": null,
      "outputs": []
    },
    {
      "cell_type": "code",
      "source": [
        "#Declaring a dictionary - key value pairs #Roll number - student name\n",
        "msc={\n",
        "      \"MSC1\":\"Vipin\", #key:value\n",
        "      \"MSC2\":\"Madhurya\", #key:value\n",
        "      \"MSC3\":\"Paulamale\", #key:value\n",
        "      \"MSC4\":\"Swathi\"\n",
        "\n",
        "}\n",
        "print(msc)\n",
        "print(msc[\"MSC2\"])"
      ],
      "metadata": {
        "colab": {
          "base_uri": "https://localhost:8080/"
        },
        "id": "MBH8abq5NeQb",
        "outputId": "87f89fc2-2d8f-42dc-87d8-0294433851e5"
      },
      "execution_count": 11,
      "outputs": [
        {
          "output_type": "stream",
          "name": "stdout",
          "text": [
            "{'MSC1': 'Vipin', 'MSC2': 'Madhurya', 'MSC3': 'Paulamale', 'MSC4': 'Swathi'}\n",
            "Madhurya\n"
          ]
        }
      ]
    },
    {
      "cell_type": "code",
      "source": [
        "renz={'AluI':'AGCT', 'EcoRI': \"GAATC\", 'HindIII':'AAGCTT'}\n",
        "print(type(renz))\n",
        "print(renz[\"AluI\"])"
      ],
      "metadata": {
        "colab": {
          "base_uri": "https://localhost:8080/"
        },
        "id": "F0EdIBeWOH5W",
        "outputId": "46b256ff-58ed-4eb4-b004-7cdf29b0a9c1"
      },
      "execution_count": 13,
      "outputs": [
        {
          "output_type": "stream",
          "name": "stdout",
          "text": [
            "<class 'dict'>\n",
            "AGCT\n"
          ]
        }
      ]
    },
    {
      "cell_type": "code",
      "source": [
        "print(\"Recognition sequence for AluI is \", renz[\"AluI\"])\n",
        "print(\"Recognition sequence for AluI is \", renz[\"EcoRI\"])"
      ],
      "metadata": {
        "colab": {
          "base_uri": "https://localhost:8080/"
        },
        "id": "iT11OQTcOuUK",
        "outputId": "edbf0226-280e-49a6-ad95-ff8dda240e83"
      },
      "execution_count": 14,
      "outputs": [
        {
          "output_type": "stream",
          "name": "stdout",
          "text": [
            "Recognition sequence for AluI is  AGCT\n",
            "Recognition sequence for AluI is  GAATC\n"
          ]
        }
      ]
    },
    {
      "cell_type": "code",
      "source": [
        "#Biological examples of dictionary\n",
        "#genetic code : 61 codons - key, 20 AA - values\n",
        "codon={\n",
        "      \"start\":(\"AUG\", \"GUG\"),\n",
        "      \"stop\":[\"UAA\", \"UAG\", \"UGA\"]\n",
        "}\n",
        "print(codon[\"start\"])\n",
        "print(codon[\"stop\"])"
      ],
      "metadata": {
        "colab": {
          "base_uri": "https://localhost:8080/"
        },
        "id": "3cR3rE9pO1ep",
        "outputId": "a3cf63b9-1d41-4ca9-fa57-9882588e27de"
      },
      "execution_count": 15,
      "outputs": [
        {
          "output_type": "stream",
          "name": "stdout",
          "text": [
            "('AUG', 'GUG')\n",
            "['UAA', 'UAG', 'UGA']\n"
          ]
        }
      ]
    },
    {
      "cell_type": "code",
      "source": [],
      "metadata": {
        "id": "i5vhpuZbPe0H"
      },
      "execution_count": null,
      "outputs": []
    }
  ]
}