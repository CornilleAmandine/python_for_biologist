{
  "nbformat": 4,
  "nbformat_minor": 0,
  "metadata": {
    "colab": {
      "provenance": [],
      "authorship_tag": "ABX9TyO4ErTsIZLjHAQv9xCNaO15"
    },
    "kernelspec": {
      "name": "python3",
      "display_name": "Python 3"
    },
    "language_info": {
      "name": "python"
    }
  },
  "cells": [
    {
      "cell_type": "code",
      "execution_count": null,
      "metadata": {
        "id": "Q2xMmo5-lGYQ"
      },
      "outputs": [],
      "source": [
        "#Searching for a specific motif or a pattern in a sequence\n",
        "#using Python regular expression"
      ]
    },
    {
      "cell_type": "code",
      "source": [
        "#importing re-package\n",
        "import re"
      ],
      "metadata": {
        "id": "6MVVJOymlOkq"
      },
      "execution_count": 1,
      "outputs": []
    },
    {
      "cell_type": "code",
      "source": [
        "#Search space\n",
        "dna=\"AAGTCGTCGACAGTCGCTGAATCAGAGTCGCGCAT\""
      ],
      "metadata": {
        "id": "MEVYP3CilRuH"
      },
      "execution_count": 3,
      "outputs": []
    },
    {
      "cell_type": "code",
      "source": [
        "#Search pattern\n",
        "pattern=\"TCA\""
      ],
      "metadata": {
        "id": "lhdafyxElXp7"
      },
      "execution_count": 7,
      "outputs": []
    },
    {
      "cell_type": "code",
      "source": [
        "#finding the first match\n",
        "if re.search(pattern, dna):\n",
        "  result=re.search(pattern,dna)\n",
        "  print(result.start()+1, result.end(), result.group(0))\n",
        "  #print(result.span())\n",
        "else:\n",
        "  print(\"no match found\")"
      ],
      "metadata": {
        "colab": {
          "base_uri": "https://localhost:8080/"
        },
        "id": "kP0liVSxldD6",
        "outputId": "56200f9d-7edc-4cae-c978-be95ddf4874f"
      },
      "execution_count": 8,
      "outputs": [
        {
          "output_type": "stream",
          "name": "stdout",
          "text": [
            "22 24 TCA\n"
          ]
        }
      ]
    },
    {
      "cell_type": "code",
      "source": [
        "#finding match in a string\n",
        "if re.search(pattern, dna):\n",
        "  for i in re.finditer(pattern,dna): #find iteratively in the string\n",
        "    print(i.start()+1, i.end(), i.group(0))\n",
        "  #print(result.span())\n",
        "else:\n",
        "  print(\"no match found\")"
      ],
      "metadata": {
        "colab": {
          "base_uri": "https://localhost:8080/"
        },
        "id": "h5loDpDCmC0P",
        "outputId": "cc7f4754-5cb3-4cb9-a3a1-590e246ee4d2"
      },
      "execution_count": 11,
      "outputs": [
        {
          "output_type": "stream",
          "name": "stdout",
          "text": [
            "22 24 TCA\n"
          ]
        }
      ]
    },
    {
      "cell_type": "code",
      "source": [
        "pattern=input(\"Submit The Search Pattern \") #e.g. ACC"
      ],
      "metadata": {
        "colab": {
          "base_uri": "https://localhost:8080/"
        },
        "id": "lyXOuX_Fm6BD",
        "outputId": "46948a9a-943b-4711-873c-23bb3f287bc9"
      },
      "execution_count": 13,
      "outputs": [
        {
          "name": "stdout",
          "output_type": "stream",
          "text": [
            "Submit The Search Pattern ACC\n"
          ]
        }
      ]
    },
    {
      "cell_type": "code",
      "source": [
        "#finding the first match\n",
        "if re.search(pattern, dna):\n",
        "  result=re.search(pattern,dna)\n",
        "  print(dna)\n",
        "  print(result.start(), result.end(), result.group(0))\n",
        "  #print(result.span())\n",
        "else:\n",
        "  print(\"no match found\")"
      ],
      "metadata": {
        "colab": {
          "base_uri": "https://localhost:8080/"
        },
        "id": "ZKGDVJyJnDBP",
        "outputId": "dc6f7af5-62f2-4d38-cb8e-1e6f57586168"
      },
      "execution_count": 14,
      "outputs": [
        {
          "output_type": "stream",
          "name": "stdout",
          "text": [
            "no match found\n"
          ]
        }
      ]
    },
    {
      "cell_type": "code",
      "source": [
        "#finding all match in a string\n",
        "if re.search(pattern, dna):\n",
        "  for i in re.finditer(pattern,dna): #find iteratively in the string\n",
        "    print(i.start()+1, i.end(), i.group(0))\n",
        "  #print(result.span())\n",
        "else:\n",
        "  print(\"no match found\")"
      ],
      "metadata": {
        "id": "68rlZcBlnN4F"
      },
      "execution_count": null,
      "outputs": []
    },
    {
      "cell_type": "code",
      "source": [
        "#Fuzzy match\n",
        "x=re.search(\"G[ATGC]A\", dna)\n",
        "print(x.group())\n",
        "print(x.start())\n",
        "print(x.end())"
      ],
      "metadata": {
        "colab": {
          "base_uri": "https://localhost:8080/"
        },
        "id": "ssIDOx_inhM3",
        "outputId": "a5b137fe-4d0f-4d65-ab0e-a6f77c76b4f9"
      },
      "execution_count": 15,
      "outputs": [
        {
          "output_type": "stream",
          "name": "stdout",
          "text": [
            "GAA\n",
            "18\n",
            "21\n"
          ]
        }
      ]
    },
    {
      "cell_type": "code",
      "source": [
        "#Partial match\n",
        "y=re.search(\"G[ATC][ATC]\", dna)\n",
        "print(y)\n"
      ],
      "metadata": {
        "colab": {
          "base_uri": "https://localhost:8080/"
        },
        "id": "ZFp4Frg1n_KO",
        "outputId": "92843ad0-5dce-40c1-fb03-c0568bee08d5"
      },
      "execution_count": 17,
      "outputs": [
        {
          "output_type": "stream",
          "name": "stdout",
          "text": [
            "<re.Match object; span=(2, 5), match='GTC'>\n"
          ]
        }
      ]
    },
    {
      "cell_type": "code",
      "source": [
        "#how to code on Spyder (euivalent of Rstudio for R)"
      ],
      "metadata": {
        "id": "Gr7ODqHmtAWY"
      },
      "execution_count": null,
      "outputs": []
    }
  ]
}