{
  "nbformat": 4,
  "nbformat_minor": 0,
  "metadata": {
    "colab": {
      "provenance": [],
      "authorship_tag": "ABX9TyOr/FnnFEZBQH5o/1pyq/kL"
    },
    "kernelspec": {
      "name": "python3",
      "display_name": "Python 3"
    },
    "language_info": {
      "name": "python"
    }
  },
  "cells": [
    {
      "cell_type": "code",
      "execution_count": null,
      "metadata": {
        "colab": {
          "base_uri": "https://localhost:8080/"
        },
        "id": "IC4xIhH_BvVe",
        "outputId": "90ed8d07-ac47-41f1-a1df-4fe6d71a82fc"
      },
      "outputs": [
        {
          "output_type": "stream",
          "name": "stdout",
          "text": [
            "[1, 2, 3, 4, 5]\n"
          ]
        }
      ],
      "source": [
        "#Data Structures (colleciton of values written in a specfic format): when we have data, we have not A SEQUENCE, but several SEQUENCES. In pythn you LIST, TUPLES, DICTIONARY\n",
        "\n",
        "#######LIST\n",
        "#lists are declared in rectangular rackets\n",
        "#Follow 0 indexing\n",
        "#are mutable or amenable to change (TUPLE CANNOT BE MUTABLE)\n",
        "\n",
        "#Creating a list\n",
        "marks=[1,2,3,4,5]\n",
        "print(marks)"
      ]
    },
    {
      "cell_type": "code",
      "source": [
        "#Number of elements in a list\n",
        "length=len(marks)\n",
        "print(length)"
      ],
      "metadata": {
        "colab": {
          "base_uri": "https://localhost:8080/"
        },
        "id": "Er1NjZT9CmVn",
        "outputId": "f1940506-655c-4632-ac4e-4924e51ef6f2"
      },
      "execution_count": null,
      "outputs": [
        {
          "output_type": "stream",
          "name": "stdout",
          "text": [
            "5\n"
          ]
        }
      ]
    },
    {
      "cell_type": "code",
      "source": [
        "#sum\n",
        "numbers=[1,2,3,4,5]\n",
        "y=sum(numbers)\n",
        "print(\"sum \", y)\n",
        "print(numbers[1]) #it will print 2 (as the indexing starts at 0)\n",
        "print(numbers[:3]) #it will print 1,2,3 -> numbers=[1,2,3,4,5]\n",
        "print(numbers[3:]) #it will print 1,2,3 -> numbers=[1,2,3,4,5]\n"
      ],
      "metadata": {
        "colab": {
          "base_uri": "https://localhost:8080/"
        },
        "id": "pZhsIFviC9Oj",
        "outputId": "4a7967d1-e2a5-48a5-ce8a-6eeb99c5b26c"
      },
      "execution_count": null,
      "outputs": [
        {
          "output_type": "stream",
          "name": "stdout",
          "text": [
            "sum  15\n",
            "2\n",
            "[1, 2, 3]\n",
            "[4, 5]\n"
          ]
        }
      ]
    },
    {
      "cell_type": "code",
      "source": [
        "#calculating mean\n",
        "mean=sum(numbers)/len(numbers)\n",
        "print(mean)"
      ],
      "metadata": {
        "colab": {
          "base_uri": "https://localhost:8080/"
        },
        "id": "lFZJw8hrDJRs",
        "outputId": "9726ad08-cf71-40e9-84d2-f38ac47ea010"
      },
      "execution_count": null,
      "outputs": [
        {
          "output_type": "stream",
          "name": "stdout",
          "text": [
            "3.0\n"
          ]
        }
      ]
    },
    {
      "cell_type": "code",
      "source": [
        "from statistics import mean"
      ],
      "metadata": {
        "id": "M95CcFEMDJhO"
      },
      "execution_count": null,
      "outputs": []
    },
    {
      "cell_type": "code",
      "source": [
        "a=mean(numbers)\n",
        "print(a)\n"
      ],
      "metadata": {
        "colab": {
          "base_uri": "https://localhost:8080/"
        },
        "id": "NDk0_xHuEhcM",
        "outputId": "ae215a99-a02b-4063-d36e-fa0708d8dc3c"
      },
      "execution_count": null,
      "outputs": [
        {
          "output_type": "stream",
          "name": "stdout",
          "text": [
            "3\n"
          ]
        }
      ]
    },
    {
      "cell_type": "code",
      "source": [
        "from statistics import * #import all the library from staistics\n",
        "print(mode(numbers))\n",
        "print(median(numbers))"
      ],
      "metadata": {
        "colab": {
          "base_uri": "https://localhost:8080/"
        },
        "id": "WQzkFpUDEkHK",
        "outputId": "8ddc21fc-15f7-4b53-d756-52ccba7c630f"
      },
      "execution_count": null,
      "outputs": [
        {
          "output_type": "stream",
          "name": "stdout",
          "text": [
            "1\n",
            "3\n"
          ]
        }
      ]
    },
    {
      "cell_type": "code",
      "source": [
        "#Calculating descriptive statistics\n",
        "print(mean(numbers))\n",
        "print(median(numbers))\n",
        "print(variance(numbers))\n",
        "print(stdev(numbers))"
      ],
      "metadata": {
        "colab": {
          "base_uri": "https://localhost:8080/"
        },
        "id": "bvMJhoDoGXL0",
        "outputId": "6127188d-3b0e-4b2c-9d2f-f2fc2e2da29e"
      },
      "execution_count": null,
      "outputs": [
        {
          "output_type": "stream",
          "name": "stdout",
          "text": [
            "3\n",
            "3\n",
            "2.5\n",
            "1.5811388300841898\n"
          ]
        }
      ]
    },
    {
      "cell_type": "code",
      "source": [
        "a=stdev(numbers)\n",
        "print(a)\n",
        "rounda=round(a,3)\n",
        "print(rounda)"
      ],
      "metadata": {
        "colab": {
          "base_uri": "https://localhost:8080/"
        },
        "id": "Nbc9rxZ4Gfa4",
        "outputId": "db1c0a8d-17b3-47ab-b9e4-27a75adb2fce"
      },
      "execution_count": null,
      "outputs": [
        {
          "output_type": "stream",
          "name": "stdout",
          "text": [
            "1.5811388300841898\n",
            "1.581\n"
          ]
        }
      ]
    },
    {
      "cell_type": "code",
      "source": [
        "dir(statistics) #all function which can be found"
      ],
      "metadata": {
        "colab": {
          "base_uri": "https://localhost:8080/",
          "height": 174
        },
        "id": "b-BVKphtGptT",
        "outputId": "f5a1a65f-2284-4ac5-fc1e-02506cf2bf06"
      },
      "execution_count": null,
      "outputs": [
        {
          "output_type": "error",
          "ename": "NameError",
          "evalue": "ignored",
          "traceback": [
            "\u001b[0;31m---------------------------------------------------------------------------\u001b[0m",
            "\u001b[0;31mNameError\u001b[0m                                 Traceback (most recent call last)",
            "\u001b[0;32m<ipython-input-18-65f9d2c8b040>\u001b[0m in \u001b[0;36m<cell line: 1>\u001b[0;34m()\u001b[0m\n\u001b[0;32m----> 1\u001b[0;31m \u001b[0mdir\u001b[0m\u001b[0;34m(\u001b[0m\u001b[0mstatistics\u001b[0m\u001b[0;34m)\u001b[0m\u001b[0;34m\u001b[0m\u001b[0;34m\u001b[0m\u001b[0m\n\u001b[0m",
            "\u001b[0;31mNameError\u001b[0m: name 'statistics' is not defined"
          ]
        }
      ]
    },
    {
      "cell_type": "code",
      "source": [
        "#print specific element\n",
        "#index 1 to 3\n",
        "print(numbers[:3])\n",
        "\n",
        "#print elements from index 1 to 3\n",
        "print(numbers[1:4])\n",
        "\n",
        "\n",
        "\n"
      ],
      "metadata": {
        "colab": {
          "base_uri": "https://localhost:8080/"
        },
        "id": "fmKYJ7s8HCdk",
        "outputId": "91be9cc1-8a7b-480e-c81d-56a646e83a16"
      },
      "execution_count": null,
      "outputs": [
        {
          "output_type": "stream",
          "name": "stdout",
          "text": [
            "[1, 2, 3]\n",
            "[2, 3, 4]\n"
          ]
        }
      ]
    },
    {
      "cell_type": "code",
      "source": [
        "#sorting elements of a list\n",
        "numbers=[2,4,5,6,3,9,1]\n",
        "numbers.sort()\n",
        "print(numbers)"
      ],
      "metadata": {
        "colab": {
          "base_uri": "https://localhost:8080/"
        },
        "id": "-YWSjJ4nHiAn",
        "outputId": "ed351ac8-0b7e-48bf-b1d1-e891f6537c77"
      },
      "execution_count": null,
      "outputs": [
        {
          "output_type": "stream",
          "name": "stdout",
          "text": [
            "[1, 2, 3, 4, 5, 6, 9]\n"
          ]
        }
      ]
    },
    {
      "cell_type": "code",
      "source": [
        "#Reverse order\n",
        "numbers.sort(reverse=True)\n",
        "print(numbers)"
      ],
      "metadata": {
        "colab": {
          "base_uri": "https://localhost:8080/"
        },
        "id": "gLCETRNnHpBx",
        "outputId": "844c1b3f-4287-4aac-f996-aedfc5c1b825"
      },
      "execution_count": null,
      "outputs": [
        {
          "output_type": "stream",
          "name": "stdout",
          "text": [
            "[9, 6, 5, 4, 3, 2, 1]\n"
          ]
        }
      ]
    },
    {
      "cell_type": "code",
      "source": [
        "#Lists are MUTABLE or can be changed\n",
        "numbers=[2,4,5,6,3,9,1]\n",
        "print(numbers)\n",
        "numbers[1]=10\n",
        "print(numbers)"
      ],
      "metadata": {
        "colab": {
          "base_uri": "https://localhost:8080/"
        },
        "id": "4IoNKFQFHyGD",
        "outputId": "9d21b740-7826-44b7-f394-1bf602ea7ca8"
      },
      "execution_count": null,
      "outputs": [
        {
          "output_type": "stream",
          "name": "stdout",
          "text": [
            "[2, 4, 5, 6, 3, 9, 1]\n",
            "[2, 10, 5, 6, 3, 9, 1]\n"
          ]
        }
      ]
    },
    {
      "cell_type": "code",
      "source": [
        "#modifying the lists\n",
        "#substitute, append insert, deleter"
      ],
      "metadata": {
        "id": "g6E54dW2IETe"
      },
      "execution_count": null,
      "outputs": []
    },
    {
      "cell_type": "code",
      "source": [
        "#substitute\n",
        "omics=[\"Genomics\", \"Transcriptomics\", \"Proteomics\"]\n",
        "print(omics)\n",
        "omics[1]=\"Metabolomics\"\n",
        "print(omics)"
      ],
      "metadata": {
        "colab": {
          "base_uri": "https://localhost:8080/"
        },
        "id": "fIdgQuwmIHw6",
        "outputId": "212e9e90-481b-4506-d95a-2f7e8b3cd255"
      },
      "execution_count": null,
      "outputs": [
        {
          "output_type": "stream",
          "name": "stdout",
          "text": [
            "['Genomics', 'Transcriptomics', 'Proteomics']\n",
            "['Genomics', 'Metabolomics', 'Proteomics']\n"
          ]
        }
      ]
    },
    {
      "cell_type": "code",
      "source": [
        "#Append= Add element to the end of the list\n",
        "omics=[\"Genomics\", \"Transcriptomics\", \"Proteomics\"]\n",
        "print(omics)\n",
        "omics.append(\"Metabolomics\")\n",
        "print(omics)"
      ],
      "metadata": {
        "colab": {
          "base_uri": "https://localhost:8080/"
        },
        "id": "Cze2bB5bIWrt",
        "outputId": "c8edcc0f-07bb-4506-e6ac-e0ffac1aaf5d"
      },
      "execution_count": null,
      "outputs": [
        {
          "output_type": "stream",
          "name": "stdout",
          "text": [
            "['Genomics', 'Transcriptomics', 'Proteomics']\n",
            "['Genomics', 'Transcriptomics', 'Proteomics', 'Metabolomics']\n"
          ]
        }
      ]
    },
    {
      "cell_type": "code",
      "source": [
        "#Delete= pop removes the last element by dafault, or an element by index specifield in()\n",
        "omics=[\"Genomics\", \"Transcriptomics\", \"Proteomics\"]\n",
        "print(omics)\n",
        "omics.pop(1)\n",
        "print(omics)"
      ],
      "metadata": {
        "colab": {
          "base_uri": "https://localhost:8080/"
        },
        "id": "XfBU-q2EI359",
        "outputId": "7f2040fc-c9fd-425b-a316-ad05bc1708ea"
      },
      "execution_count": null,
      "outputs": [
        {
          "output_type": "stream",
          "name": "stdout",
          "text": [
            "['Genomics', 'Transcriptomics', 'Proteomics']\n",
            "['Genomics', 'Proteomics']\n"
          ]
        }
      ]
    },
    {
      "cell_type": "code",
      "source": [
        "#insert a specific index\n",
        "omics=[\"Genomics\", \"Transcriptomics\", \"Proteomics\"]\n",
        "omics.insert(2,\"Lipidomics\")\n",
        "print(omics)"
      ],
      "metadata": {
        "colab": {
          "base_uri": "https://localhost:8080/"
        },
        "id": "rrbF6W7ZJB0J",
        "outputId": "e587d87d-5cd4-4008-cd33-2046364ac483"
      },
      "execution_count": null,
      "outputs": [
        {
          "output_type": "stream",
          "name": "stdout",
          "text": [
            "['Genomics', 'Transcriptomics', 'Lipidomics', 'Proteomics']\n"
          ]
        }
      ]
    },
    {
      "cell_type": "code",
      "source": [
        "#omics.insert(2,\"Lipidomics\", \"Glycomics\") # does not work\n",
        "#but if you do\n",
        "list1=[\"Lipidomics\", \"Glycomics\"]\n",
        "omics=[\"Genomics\", \"Transcriptomics\", \"Proteomics\"]\n",
        "omics.insert(2,list1)\n",
        "print(omics)"
      ],
      "metadata": {
        "colab": {
          "base_uri": "https://localhost:8080/"
        },
        "id": "FuwX8WVJKUm4",
        "outputId": "645090ba-c174-4b81-9d35-cc2244528534"
      },
      "execution_count": null,
      "outputs": [
        {
          "output_type": "stream",
          "name": "stdout",
          "text": [
            "['Genomics', 'Transcriptomics', ['Lipidomics', 'Glycomics'], 'Proteomics']\n"
          ]
        }
      ]
    },
    {
      "cell_type": "code",
      "source": [
        "#Another example (step by step on the concept: append/pop/insert..)\n",
        "list1=[1,2,3,4,5]\n",
        "list2=[\"Genomics\", \"Transcriptomics\", \"Proteomics\"]\n",
        "list3=[1,2,3,\"Vipin\"] # Mix of number and letter\n",
        "print(type(list3))"
      ],
      "metadata": {
        "colab": {
          "base_uri": "https://localhost:8080/"
        },
        "id": "uHS7JosgIsBl",
        "outputId": "30a4af42-ae91-491b-91a1-aafd9aeb4471"
      },
      "execution_count": null,
      "outputs": [
        {
          "output_type": "stream",
          "name": "stdout",
          "text": [
            "<class 'list'>\n"
          ]
        }
      ]
    },
    {
      "cell_type": "code",
      "source": [
        "#combine lists\n",
        "subjects=[\"a\",\"b\",\"c\",\"d\"]\n",
        "marks=[10,9,8,9]\n",
        "subjects_marks=subjects+marks\n",
        "print(subjects_marks)\n"
      ],
      "metadata": {
        "colab": {
          "base_uri": "https://localhost:8080/"
        },
        "id": "TCyyuMDYMT1E",
        "outputId": "85be8aae-bf6a-4abd-aede-534143f7b70d"
      },
      "execution_count": null,
      "outputs": [
        {
          "output_type": "stream",
          "name": "stdout",
          "text": [
            "['a', 'b', 'c', 'd', 10, 9, 8, 9]\n"
          ]
        }
      ]
    },
    {
      "cell_type": "code",
      "source": [
        "x=subjects_marks.count('a')\n",
        "print(y)"
      ],
      "metadata": {
        "colab": {
          "base_uri": "https://localhost:8080/"
        },
        "id": "w9kh7oWzNWyU",
        "outputId": "239b58bd-21ef-4d3c-8be0-8d2f60f653ba"
      },
      "execution_count": null,
      "outputs": [
        {
          "output_type": "stream",
          "name": "stdout",
          "text": [
            "15\n"
          ]
        }
      ]
    },
    {
      "cell_type": "code",
      "source": [
        "#Iterating over a list\n",
        "nuc=[\"A\", \"T\", \"G\", \"C\"]\n",
        "for a in nuc :\n",
        "  print(a)"
      ],
      "metadata": {
        "colab": {
          "base_uri": "https://localhost:8080/"
        },
        "id": "IXScN85lNcD1",
        "outputId": "573568c8-3349-48a3-d430-90f9b1763145"
      },
      "execution_count": null,
      "outputs": [
        {
          "output_type": "stream",
          "name": "stdout",
          "text": [
            "A\n",
            "T\n",
            "G\n",
            "C\n"
          ]
        }
      ]
    },
    {
      "cell_type": "code",
      "source": [
        "#Iterate over a list of nucleaotides and calculta the composition of DNA\n",
        "dna=\"ATGCATGCAA\"\n",
        "nuc=[\"A\", \"T\", \"G\", \"C\"]\n",
        "for i in nuc:\n",
        "  count1=dna.count(i)\n",
        "  print(i, count1)"
      ],
      "metadata": {
        "colab": {
          "base_uri": "https://localhost:8080/"
        },
        "id": "8Gwl9mlrOIVJ",
        "outputId": "6385ba76-263d-4192-ebd5-de5625633d94"
      },
      "execution_count": null,
      "outputs": [
        {
          "output_type": "stream",
          "name": "stdout",
          "text": [
            "A 4\n",
            "T 2\n",
            "G 2\n",
            "C 2\n"
          ]
        }
      ]
    },
    {
      "cell_type": "code",
      "source": [
        "#make a string to a list\n",
        "dna=\"ATGCATGC\"\n",
        "dna1=list(dna)\n",
        "print(dna1)\n",
        "type(dna1)"
      ],
      "metadata": {
        "colab": {
          "base_uri": "https://localhost:8080/"
        },
        "id": "FMTJCNRKO11u",
        "outputId": "0a92563e-1a5d-410f-982d-3318d59a35c5"
      },
      "execution_count": null,
      "outputs": [
        {
          "output_type": "stream",
          "name": "stdout",
          "text": [
            "['A', 'T', 'G', 'C', 'A', 'T', 'G', 'C']\n"
          ]
        },
        {
          "output_type": "execute_result",
          "data": {
            "text/plain": [
              "list"
            ]
          },
          "metadata": {},
          "execution_count": 48
        }
      ]
    },
    {
      "cell_type": "code",
      "source": [
        "#converting a string to a list\n",
        "dna=\"ATGCATGC\"\n",
        "dna1=[*dna]\n",
        "print(dna1)\n",
        "type(dna1)"
      ],
      "metadata": {
        "colab": {
          "base_uri": "https://localhost:8080/"
        },
        "id": "mEA_TwgOPDx1",
        "outputId": "57be7d25-fc2e-457c-9916-df221d8326c2"
      },
      "execution_count": null,
      "outputs": [
        {
          "output_type": "stream",
          "name": "stdout",
          "text": [
            "['A', 'T', 'G', 'C', 'A', 'T', 'G', 'C']\n"
          ]
        },
        {
          "output_type": "execute_result",
          "data": {
            "text/plain": [
              "list"
            ]
          },
          "metadata": {},
          "execution_count": 49
        }
      ]
    },
    {
      "cell_type": "code",
      "source": [
        "#using lopps\n",
        "dna=\"ATGCATGC\"\n",
        "list1=[]\n",
        "for i in dna:\n",
        "  list1.append(i)\n",
        "print(list1)"
      ],
      "metadata": {
        "colab": {
          "base_uri": "https://localhost:8080/"
        },
        "id": "03LUWn4gPVcy",
        "outputId": "0925a082-b6d1-4ca2-c302-600157ecddac"
      },
      "execution_count": null,
      "outputs": [
        {
          "output_type": "stream",
          "name": "stdout",
          "text": [
            "['A', 'T', 'G', 'C', 'A', 'T', 'G', 'C']\n"
          ]
        }
      ]
    },
    {
      "cell_type": "markdown",
      "source": [],
      "metadata": {
        "id": "0zDmhU8dQ3ti"
      }
    },
    {
      "cell_type": "code",
      "source": [
        "#####LETS SEE TUPPLE: like list but are declared ()\n",
        "tuple1=(1,2,3,4,5,6)\n",
        "type(tuple1)\n",
        "tuple1[0] #1\n",
        "tuple1[1:3] # 2,3\n",
        "tuple1[1:]\n",
        "tuple1[3:]\n",
        "tuple1[3:6]"
      ],
      "metadata": {
        "colab": {
          "base_uri": "https://localhost:8080/"
        },
        "id": "wCdz0IspPwQD",
        "outputId": "2ec9ad1f-8049-4961-b1f5-5dd9f7037f4c"
      },
      "execution_count": null,
      "outputs": [
        {
          "output_type": "execute_result",
          "data": {
            "text/plain": [
              "(4, 5, 6)"
            ]
          },
          "metadata": {},
          "execution_count": 61
        }
      ]
    },
    {
      "cell_type": "code",
      "source": [
        "#Differences between list and tupple -> LIST ARE MUTABLE (they can be changed)\n",
        "list1=[1,2,3,4]\n",
        "list1[1]=5\n",
        "print(list1)"
      ],
      "metadata": {
        "colab": {
          "base_uri": "https://localhost:8080/"
        },
        "id": "sNNLd_iCQqr5",
        "outputId": "8e006e42-721f-4e4a-a034-f49bccfbaaeb"
      },
      "execution_count": null,
      "outputs": [
        {
          "output_type": "stream",
          "name": "stdout",
          "text": [
            "[1, 5, 3, 4]\n"
          ]
        }
      ]
    },
    {
      "cell_type": "code",
      "source": [
        "#tuple are not mutable\n",
        "tuple1=(1,2,3,4)\n",
        "tuple1[1]=5\n",
        "print(tuple1)"
      ],
      "metadata": {
        "colab": {
          "base_uri": "https://localhost:8080/",
          "height": 208
        },
        "id": "7HHf5GZAQ0jM",
        "outputId": "8a6d3cd8-07d1-41c5-8b67-f3f227d470ce"
      },
      "execution_count": null,
      "outputs": [
        {
          "output_type": "error",
          "ename": "TypeError",
          "evalue": "ignored",
          "traceback": [
            "\u001b[0;31m---------------------------------------------------------------------------\u001b[0m",
            "\u001b[0;31mTypeError\u001b[0m                                 Traceback (most recent call last)",
            "\u001b[0;32m<ipython-input-64-c10454f98261>\u001b[0m in \u001b[0;36m<cell line: 2>\u001b[0;34m()\u001b[0m\n\u001b[1;32m      1\u001b[0m \u001b[0mtuple1\u001b[0m\u001b[0;34m=\u001b[0m\u001b[0;34m(\u001b[0m\u001b[0;36m1\u001b[0m\u001b[0;34m,\u001b[0m\u001b[0;36m2\u001b[0m\u001b[0;34m,\u001b[0m\u001b[0;36m3\u001b[0m\u001b[0;34m,\u001b[0m\u001b[0;36m4\u001b[0m\u001b[0;34m)\u001b[0m\u001b[0;34m\u001b[0m\u001b[0;34m\u001b[0m\u001b[0m\n\u001b[0;32m----> 2\u001b[0;31m \u001b[0mtuple1\u001b[0m\u001b[0;34m[\u001b[0m\u001b[0;36m1\u001b[0m\u001b[0;34m]\u001b[0m\u001b[0;34m=\u001b[0m\u001b[0;36m5\u001b[0m\u001b[0;34m\u001b[0m\u001b[0;34m\u001b[0m\u001b[0m\n\u001b[0m\u001b[1;32m      3\u001b[0m \u001b[0mprint\u001b[0m\u001b[0;34m(\u001b[0m\u001b[0mtuple1\u001b[0m\u001b[0;34m)\u001b[0m\u001b[0;34m\u001b[0m\u001b[0;34m\u001b[0m\u001b[0m\n",
            "\u001b[0;31mTypeError\u001b[0m: 'tuple' object does not support item assignment"
          ]
        }
      ]
    },
    {
      "cell_type": "code",
      "source": [
        "#Downloading anaconda (go to anaconda.com/ Free download)"
      ],
      "metadata": {
        "id": "2DD0fvmCRmFy"
      },
      "execution_count": null,
      "outputs": []
    }
  ]
}