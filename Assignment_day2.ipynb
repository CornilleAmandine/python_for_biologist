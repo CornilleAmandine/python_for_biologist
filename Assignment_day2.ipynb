{
  "nbformat": 4,
  "nbformat_minor": 0,
  "metadata": {
    "colab": {
      "provenance": [],
      "authorship_tag": "ABX9TyNi6zPykeYYufEFChCZ2qdy"
    },
    "kernelspec": {
      "name": "python3",
      "display_name": "Python 3"
    },
    "language_info": {
      "name": "python"
    }
  },
  "cells": [
    {
      "cell_type": "markdown",
      "source": [],
      "metadata": {
        "id": "SgCcL3xvdv29"
      }
    },
    {
      "cell_type": "markdown",
      "source": [
        "**Assignement DAY 2**\n",
        "Promt the user to submit a DNA sequencne\n",
        "Calculate the total number of A T, C, G in the sequence"
      ],
      "metadata": {
        "id": "HbFbPEUpdxfU"
      }
    },
    {
      "cell_type": "code",
      "source": [
        "dna=input(\"Write a fake sequence\")\n",
        "print(dna)\n",
        "length_dna=len(dna)\n",
        "print(length_dna)\n",
        "a=dna.count(\"A\")\n",
        "g=dna.count(\"G\")\n",
        "t=dna.count(\"T\")\n",
        "c=dna.count(\"C\")\n",
        "print(\"number of A, G, T, C\", a, g, t, c)"
      ],
      "metadata": {
        "id": "Uurikpz3d4Xi",
        "colab": {
          "base_uri": "https://localhost:8080/"
        },
        "outputId": "38d3db45-78ef-460c-b67b-c309b37d2d35"
      },
      "execution_count": null,
      "outputs": [
        {
          "output_type": "stream",
          "name": "stdout",
          "text": [
            "Write a fake sequenceATCCTGCGGCC\n",
            "ATCCTGCGGCC\n",
            "11\n",
            "number of A, G, T, C 1 3 2 5\n"
          ]
        }
      ]
    }
  ]
}